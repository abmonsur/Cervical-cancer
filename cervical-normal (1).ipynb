{
 "cells": [
  {
   "cell_type": "code",
   "execution_count": 1,
   "metadata": {
    "_cell_guid": "b1076dfc-b9ad-4769-8c92-a6c4dae69d19",
    "_uuid": "8f2839f25d086af736a60e9eeb907d3b93b6e0e5",
    "execution": {
     "iopub.execute_input": "2021-12-08T12:29:29.371691Z",
     "iopub.status.busy": "2021-12-08T12:29:29.371405Z",
     "iopub.status.idle": "2021-12-08T12:29:30.818986Z",
     "shell.execute_reply": "2021-12-08T12:29:30.817983Z",
     "shell.execute_reply.started": "2021-12-08T12:29:29.371662Z"
    }
   },
   "outputs": [
    {
     "data": {
      "text/plain": [
       "80"
      ]
     },
     "execution_count": 1,
     "metadata": {},
     "output_type": "execute_result"
    }
   ],
   "source": [
    "import pandas as pd\n",
    "import numpy as np\n",
    "from sklearn.model_selection import train_test_split\n",
    "from sklearn import metrics\n",
    "from sklearn.tree import DecisionTreeClassifier\n",
    "from sklearn.linear_model import LogisticRegression\n",
    "from sklearn.naive_bayes import GaussianNB\n",
    "from sklearn.ensemble import RandomForestClassifier\n",
    "from sklearn.neighbors import KNeighborsClassifier\n",
    "from sklearn.svm import SVC\n",
    "from catboost import CatBoostClassifier\n",
    "\n",
    "from sklearn.model_selection import cross_validate\n",
    "from sklearn.model_selection import cross_val_predict\n",
    "from sklearn.metrics import confusion_matrix\n",
    "\n",
    "from imblearn.over_sampling import SMOTE \n",
    "ada=SMOTE()\n",
    "\n",
    "heart=\"sobar-72.csv\"\n",
    "data=pd.read_csv (heart)\n",
    "\n",
    "data=data.astype(float)\n",
    "\n",
    "x=data.drop('ca_cervix',axis=1)\n",
    "y=data['ca_cervix']\n",
    "\n",
    "x_train,x_test,y_train,y_test=train_test_split(x,y,test_size=0.2, random_state=15, stratify=y)\n",
    "\n",
    "from sklearn.preprocessing import StandardScaler \n",
    "scale=StandardScaler()\n",
    "x_train=scale.fit_transform(x_train)\n",
    "x_test=scale.fit_transform(x_test)\n",
    "\n",
    "x_train,y_train = ada.fit_resample(x_train,y_train)\n",
    "\n",
    "x=x_train\n",
    "y=y_train\n",
    "\n",
    "y_train.size"
   ]
  },
  {
   "cell_type": "code",
   "execution_count": 2,
   "metadata": {
    "execution": {
     "iopub.execute_input": "2021-12-08T13:57:12.166017Z",
     "iopub.status.busy": "2021-12-08T13:57:12.165730Z",
     "iopub.status.idle": "2021-12-08T13:57:12.249375Z",
     "shell.execute_reply": "2021-12-08T13:57:12.248501Z",
     "shell.execute_reply.started": "2021-12-08T13:57:12.165989Z"
    }
   },
   "outputs": [
    {
     "data": {
      "text/html": [
       "<div>\n",
       "<style scoped>\n",
       "    .dataframe tbody tr th:only-of-type {\n",
       "        vertical-align: middle;\n",
       "    }\n",
       "\n",
       "    .dataframe tbody tr th {\n",
       "        vertical-align: top;\n",
       "    }\n",
       "\n",
       "    .dataframe thead th {\n",
       "        text-align: right;\n",
       "    }\n",
       "</style>\n",
       "<table border=\"1\" class=\"dataframe\">\n",
       "  <thead>\n",
       "    <tr style=\"text-align: right;\">\n",
       "      <th></th>\n",
       "      <th>behavior_sexualRisk</th>\n",
       "      <th>behavior_eating</th>\n",
       "      <th>behavior_personalHygine</th>\n",
       "      <th>intention_aggregation</th>\n",
       "      <th>intention_commitment</th>\n",
       "      <th>attitude_consistency</th>\n",
       "      <th>attitude_spontaneity</th>\n",
       "      <th>norm_significantPerson</th>\n",
       "      <th>norm_fulfillment</th>\n",
       "      <th>perception_vulnerability</th>\n",
       "      <th>perception_severity</th>\n",
       "      <th>motivation_strength</th>\n",
       "      <th>motivation_willingness</th>\n",
       "      <th>socialSupport_emotionality</th>\n",
       "      <th>socialSupport_appreciation</th>\n",
       "      <th>socialSupport_instrumental</th>\n",
       "      <th>empowerment_knowledge</th>\n",
       "      <th>empowerment_abilities</th>\n",
       "      <th>empowerment_desires</th>\n",
       "      <th>ca_cervix</th>\n",
       "    </tr>\n",
       "  </thead>\n",
       "  <tbody>\n",
       "    <tr>\n",
       "      <th>count</th>\n",
       "      <td>72.000000</td>\n",
       "      <td>72.000000</td>\n",
       "      <td>72.000000</td>\n",
       "      <td>72.000000</td>\n",
       "      <td>72.000000</td>\n",
       "      <td>72.000000</td>\n",
       "      <td>72.000000</td>\n",
       "      <td>72.000000</td>\n",
       "      <td>72.000000</td>\n",
       "      <td>72.000000</td>\n",
       "      <td>72.000000</td>\n",
       "      <td>72.000000</td>\n",
       "      <td>72.000000</td>\n",
       "      <td>72.000000</td>\n",
       "      <td>72.000000</td>\n",
       "      <td>72.000000</td>\n",
       "      <td>72.000000</td>\n",
       "      <td>72.000000</td>\n",
       "      <td>72.000000</td>\n",
       "      <td>72.000000</td>\n",
       "    </tr>\n",
       "    <tr>\n",
       "      <th>mean</th>\n",
       "      <td>9.666667</td>\n",
       "      <td>12.791667</td>\n",
       "      <td>11.083333</td>\n",
       "      <td>7.902778</td>\n",
       "      <td>13.347222</td>\n",
       "      <td>7.180556</td>\n",
       "      <td>8.611111</td>\n",
       "      <td>3.125000</td>\n",
       "      <td>8.486111</td>\n",
       "      <td>8.513889</td>\n",
       "      <td>5.388889</td>\n",
       "      <td>12.652778</td>\n",
       "      <td>9.694444</td>\n",
       "      <td>8.097222</td>\n",
       "      <td>6.166667</td>\n",
       "      <td>10.375000</td>\n",
       "      <td>10.541667</td>\n",
       "      <td>9.319444</td>\n",
       "      <td>10.277778</td>\n",
       "      <td>0.291667</td>\n",
       "    </tr>\n",
       "    <tr>\n",
       "      <th>std</th>\n",
       "      <td>1.186782</td>\n",
       "      <td>2.361293</td>\n",
       "      <td>3.033847</td>\n",
       "      <td>2.738148</td>\n",
       "      <td>2.374511</td>\n",
       "      <td>1.522844</td>\n",
       "      <td>1.515698</td>\n",
       "      <td>1.845722</td>\n",
       "      <td>4.907577</td>\n",
       "      <td>4.275686</td>\n",
       "      <td>3.400727</td>\n",
       "      <td>3.207209</td>\n",
       "      <td>4.130406</td>\n",
       "      <td>4.243171</td>\n",
       "      <td>2.897303</td>\n",
       "      <td>4.316485</td>\n",
       "      <td>4.366768</td>\n",
       "      <td>4.181874</td>\n",
       "      <td>4.482273</td>\n",
       "      <td>0.457719</td>\n",
       "    </tr>\n",
       "    <tr>\n",
       "      <th>min</th>\n",
       "      <td>2.000000</td>\n",
       "      <td>3.000000</td>\n",
       "      <td>3.000000</td>\n",
       "      <td>2.000000</td>\n",
       "      <td>6.000000</td>\n",
       "      <td>2.000000</td>\n",
       "      <td>4.000000</td>\n",
       "      <td>1.000000</td>\n",
       "      <td>3.000000</td>\n",
       "      <td>3.000000</td>\n",
       "      <td>2.000000</td>\n",
       "      <td>3.000000</td>\n",
       "      <td>3.000000</td>\n",
       "      <td>3.000000</td>\n",
       "      <td>2.000000</td>\n",
       "      <td>3.000000</td>\n",
       "      <td>3.000000</td>\n",
       "      <td>3.000000</td>\n",
       "      <td>3.000000</td>\n",
       "      <td>0.000000</td>\n",
       "    </tr>\n",
       "    <tr>\n",
       "      <th>25%</th>\n",
       "      <td>10.000000</td>\n",
       "      <td>11.000000</td>\n",
       "      <td>9.000000</td>\n",
       "      <td>6.000000</td>\n",
       "      <td>11.000000</td>\n",
       "      <td>6.000000</td>\n",
       "      <td>8.000000</td>\n",
       "      <td>1.000000</td>\n",
       "      <td>3.000000</td>\n",
       "      <td>5.000000</td>\n",
       "      <td>2.000000</td>\n",
       "      <td>11.000000</td>\n",
       "      <td>7.000000</td>\n",
       "      <td>3.000000</td>\n",
       "      <td>3.750000</td>\n",
       "      <td>6.750000</td>\n",
       "      <td>7.000000</td>\n",
       "      <td>5.000000</td>\n",
       "      <td>6.750000</td>\n",
       "      <td>0.000000</td>\n",
       "    </tr>\n",
       "    <tr>\n",
       "      <th>50%</th>\n",
       "      <td>10.000000</td>\n",
       "      <td>13.000000</td>\n",
       "      <td>11.000000</td>\n",
       "      <td>10.000000</td>\n",
       "      <td>15.000000</td>\n",
       "      <td>7.000000</td>\n",
       "      <td>9.000000</td>\n",
       "      <td>3.000000</td>\n",
       "      <td>7.000000</td>\n",
       "      <td>8.000000</td>\n",
       "      <td>4.000000</td>\n",
       "      <td>14.000000</td>\n",
       "      <td>11.000000</td>\n",
       "      <td>9.000000</td>\n",
       "      <td>6.500000</td>\n",
       "      <td>12.000000</td>\n",
       "      <td>12.000000</td>\n",
       "      <td>10.000000</td>\n",
       "      <td>11.000000</td>\n",
       "      <td>0.000000</td>\n",
       "    </tr>\n",
       "    <tr>\n",
       "      <th>75%</th>\n",
       "      <td>10.000000</td>\n",
       "      <td>15.000000</td>\n",
       "      <td>14.000000</td>\n",
       "      <td>10.000000</td>\n",
       "      <td>15.000000</td>\n",
       "      <td>8.000000</td>\n",
       "      <td>10.000000</td>\n",
       "      <td>5.000000</td>\n",
       "      <td>14.000000</td>\n",
       "      <td>13.000000</td>\n",
       "      <td>9.000000</td>\n",
       "      <td>15.000000</td>\n",
       "      <td>13.000000</td>\n",
       "      <td>11.250000</td>\n",
       "      <td>9.000000</td>\n",
       "      <td>14.250000</td>\n",
       "      <td>15.000000</td>\n",
       "      <td>13.000000</td>\n",
       "      <td>15.000000</td>\n",
       "      <td>1.000000</td>\n",
       "    </tr>\n",
       "    <tr>\n",
       "      <th>max</th>\n",
       "      <td>10.000000</td>\n",
       "      <td>15.000000</td>\n",
       "      <td>15.000000</td>\n",
       "      <td>10.000000</td>\n",
       "      <td>15.000000</td>\n",
       "      <td>10.000000</td>\n",
       "      <td>10.000000</td>\n",
       "      <td>5.000000</td>\n",
       "      <td>15.000000</td>\n",
       "      <td>15.000000</td>\n",
       "      <td>10.000000</td>\n",
       "      <td>15.000000</td>\n",
       "      <td>15.000000</td>\n",
       "      <td>15.000000</td>\n",
       "      <td>10.000000</td>\n",
       "      <td>15.000000</td>\n",
       "      <td>15.000000</td>\n",
       "      <td>15.000000</td>\n",
       "      <td>15.000000</td>\n",
       "      <td>1.000000</td>\n",
       "    </tr>\n",
       "  </tbody>\n",
       "</table>\n",
       "</div>"
      ],
      "text/plain": [
       "       behavior_sexualRisk  behavior_eating  behavior_personalHygine  \\\n",
       "count            72.000000        72.000000                72.000000   \n",
       "mean              9.666667        12.791667                11.083333   \n",
       "std               1.186782         2.361293                 3.033847   \n",
       "min               2.000000         3.000000                 3.000000   \n",
       "25%              10.000000        11.000000                 9.000000   \n",
       "50%              10.000000        13.000000                11.000000   \n",
       "75%              10.000000        15.000000                14.000000   \n",
       "max              10.000000        15.000000                15.000000   \n",
       "\n",
       "       intention_aggregation  intention_commitment  attitude_consistency  \\\n",
       "count              72.000000             72.000000             72.000000   \n",
       "mean                7.902778             13.347222              7.180556   \n",
       "std                 2.738148              2.374511              1.522844   \n",
       "min                 2.000000              6.000000              2.000000   \n",
       "25%                 6.000000             11.000000              6.000000   \n",
       "50%                10.000000             15.000000              7.000000   \n",
       "75%                10.000000             15.000000              8.000000   \n",
       "max                10.000000             15.000000             10.000000   \n",
       "\n",
       "       attitude_spontaneity  norm_significantPerson  norm_fulfillment  \\\n",
       "count             72.000000               72.000000         72.000000   \n",
       "mean               8.611111                3.125000          8.486111   \n",
       "std                1.515698                1.845722          4.907577   \n",
       "min                4.000000                1.000000          3.000000   \n",
       "25%                8.000000                1.000000          3.000000   \n",
       "50%                9.000000                3.000000          7.000000   \n",
       "75%               10.000000                5.000000         14.000000   \n",
       "max               10.000000                5.000000         15.000000   \n",
       "\n",
       "       perception_vulnerability  perception_severity  motivation_strength  \\\n",
       "count                 72.000000            72.000000            72.000000   \n",
       "mean                   8.513889             5.388889            12.652778   \n",
       "std                    4.275686             3.400727             3.207209   \n",
       "min                    3.000000             2.000000             3.000000   \n",
       "25%                    5.000000             2.000000            11.000000   \n",
       "50%                    8.000000             4.000000            14.000000   \n",
       "75%                   13.000000             9.000000            15.000000   \n",
       "max                   15.000000            10.000000            15.000000   \n",
       "\n",
       "       motivation_willingness  socialSupport_emotionality  \\\n",
       "count               72.000000                   72.000000   \n",
       "mean                 9.694444                    8.097222   \n",
       "std                  4.130406                    4.243171   \n",
       "min                  3.000000                    3.000000   \n",
       "25%                  7.000000                    3.000000   \n",
       "50%                 11.000000                    9.000000   \n",
       "75%                 13.000000                   11.250000   \n",
       "max                 15.000000                   15.000000   \n",
       "\n",
       "       socialSupport_appreciation  socialSupport_instrumental  \\\n",
       "count                   72.000000                   72.000000   \n",
       "mean                     6.166667                   10.375000   \n",
       "std                      2.897303                    4.316485   \n",
       "min                      2.000000                    3.000000   \n",
       "25%                      3.750000                    6.750000   \n",
       "50%                      6.500000                   12.000000   \n",
       "75%                      9.000000                   14.250000   \n",
       "max                     10.000000                   15.000000   \n",
       "\n",
       "       empowerment_knowledge  empowerment_abilities  empowerment_desires  \\\n",
       "count              72.000000              72.000000            72.000000   \n",
       "mean               10.541667               9.319444            10.277778   \n",
       "std                 4.366768               4.181874             4.482273   \n",
       "min                 3.000000               3.000000             3.000000   \n",
       "25%                 7.000000               5.000000             6.750000   \n",
       "50%                12.000000              10.000000            11.000000   \n",
       "75%                15.000000              13.000000            15.000000   \n",
       "max                15.000000              15.000000            15.000000   \n",
       "\n",
       "       ca_cervix  \n",
       "count  72.000000  \n",
       "mean    0.291667  \n",
       "std     0.457719  \n",
       "min     0.000000  \n",
       "25%     0.000000  \n",
       "50%     0.000000  \n",
       "75%     1.000000  \n",
       "max     1.000000  "
      ]
     },
     "execution_count": 2,
     "metadata": {},
     "output_type": "execute_result"
    }
   ],
   "source": [
    "data.describe()"
   ]
  },
  {
   "cell_type": "code",
   "execution_count": 4,
   "metadata": {
    "execution": {
     "iopub.execute_input": "2021-12-08T12:32:28.715481Z",
     "iopub.status.busy": "2021-12-08T12:32:28.715173Z",
     "iopub.status.idle": "2021-12-08T12:32:28.776370Z",
     "shell.execute_reply": "2021-12-08T12:32:28.775412Z",
     "shell.execute_reply.started": "2021-12-08T12:32:28.715451Z"
    }
   },
   "outputs": [
    {
     "name": "stdout",
     "output_type": "stream",
     "text": [
      "[[9 2]\n",
      " [0 4]]\n",
      "DecisionTree accuracy: 0.8666666666666667\n",
      "DecisionTree precision: 0.8181818181818182\n",
      "DecisionTree recall: 1.0\n",
      "DecisionTree f1 score: 0.9\n",
      "DecisionTree accuracy: 0.8666666666666667\n",
      "DecisionTree precision: 0.6666666666666666\n",
      "DecisionTree recall: 1.0\n",
      "DecisionTree f1 score: 0.8\n"
     ]
    }
   ],
   "source": [
    "model=DecisionTreeClassifier()\n",
    "model.fit(x,y)\n",
    "y_pred=model.predict(x_test)\n",
    "met = confusion_matrix(y_test, y_pred)\n",
    "print(met)\n",
    "\n",
    "from sklearn.metrics import precision_score\n",
    "from sklearn.metrics import recall_score\n",
    "from sklearn.metrics import f1_score\n",
    "from sklearn.metrics import accuracy_score\n",
    "\n",
    "tp=met[0][0]\n",
    "fp=met[0][1]\n",
    "fn=met[1][0]\n",
    "tn=met[1][1]\n",
    "pr=tp/(tp+fp)\n",
    "rec=tp/(tp+fn)\n",
    "f1=2*pr*rec/(pr+rec)\n",
    "acc=(tp+tn)/(tp+fp+tn+fn)\n",
    "print(\"DecisionTree accuracy:\",acc)\n",
    "print(\"DecisionTree precision:\",pr)\n",
    "print(\"DecisionTree recall:\",rec)\n",
    "print(\"DecisionTree f1 score:\",f1)\n",
    "\n",
    "print(\"DecisionTree accuracy:\",accuracy_score(y_test, y_pred))\n",
    "print(\"DecisionTree precision:\",precision_score(y_test, y_pred))\n",
    "print(\"DecisionTree recall:\",recall_score(y_test, y_pred))\n",
    "print(\"DecisionTree f1 score:\",f1_score(y_test, y_pred))"
   ]
  },
  {
   "cell_type": "code",
   "execution_count": 126,
   "metadata": {
    "execution": {
     "iopub.execute_input": "2021-12-08T12:32:33.227633Z",
     "iopub.status.busy": "2021-12-08T12:32:33.227352Z",
     "iopub.status.idle": "2021-12-08T12:32:35.257100Z",
     "shell.execute_reply": "2021-12-08T12:32:35.256143Z",
     "shell.execute_reply.started": "2021-12-08T12:32:33.227603Z"
    }
   },
   "outputs": [
    {
     "name": "stdout",
     "output_type": "stream",
     "text": [
      "[[10  1]\n",
      " [ 0  4]]\n",
      "RFC accuracy: 0.9333333333333333\n",
      "RFC precision: 0.9090909090909091\n",
      "RFC recall: 1.0\n",
      "RFC f1 score: 0.9523809523809523\n"
     ]
    }
   ],
   "source": [
    "model1=RandomForestClassifier()\n",
    "model1.fit(x,y)\n",
    "y1_pred=model1.predict(x_test)\n",
    "met = confusion_matrix(y_test, y1_pred)\n",
    "print(met)\n",
    "\n",
    "tp=met[0][0]\n",
    "fp=met[0][1]\n",
    "fn=met[1][0]\n",
    "tn=met[1][1]\n",
    "pr=tp/(tp+fp)\n",
    "rec=tp/(tp+fn)\n",
    "f1=2*pr*rec/(pr+rec)\n",
    "acc=(tp+tn)/(tp+fp+tn+fn)\n",
    "print(\"RFC accuracy:\",acc)\n",
    "print(\"RFC precision:\",pr)\n",
    "print(\"RFC recall:\",rec)\n",
    "print(\"RFC f1 score:\",f1)"
   ]
  },
  {
   "cell_type": "code",
   "execution_count": 128,
   "metadata": {
    "execution": {
     "iopub.execute_input": "2021-12-08T12:32:41.215427Z",
     "iopub.status.busy": "2021-12-08T12:32:41.215129Z",
     "iopub.status.idle": "2021-12-08T12:32:41.279439Z",
     "shell.execute_reply": "2021-12-08T12:32:41.278444Z",
     "shell.execute_reply.started": "2021-12-08T12:32:41.215397Z"
    }
   },
   "outputs": [
    {
     "name": "stdout",
     "output_type": "stream",
     "text": [
      "[[9 2]\n",
      " [0 4]]\n",
      "GNB accuracy: 0.8666666666666667\n",
      "GNB precision: 0.8181818181818182\n",
      "GNB recall: 1.0\n",
      "GNB f1 score: 0.9\n"
     ]
    }
   ],
   "source": [
    "model2=GaussianNB()\n",
    "model2.fit(x,y)\n",
    "y2_pred=model2.predict(x_test)\n",
    "met = confusion_matrix(y_test, y2_pred)\n",
    "print(met)\n",
    "\n",
    "tp=met[0][0]\n",
    "fp=met[0][1]\n",
    "fn=met[1][0]\n",
    "tn=met[1][1]\n",
    "pr=tp/(tp+fp)\n",
    "rec=tp/(tp+fn)\n",
    "f1=2*pr*rec/(pr+rec)\n",
    "acc=(tp+tn)/(tp+fp+tn+fn)\n",
    "print(\"GNB accuracy:\",acc)\n",
    "print(\"GNB precision:\",pr)\n",
    "print(\"GNB recall:\",rec)\n",
    "print(\"GNB f1 score:\",f1)"
   ]
  },
  {
   "cell_type": "code",
   "execution_count": 129,
   "metadata": {
    "execution": {
     "iopub.execute_input": "2021-12-08T12:32:44.935637Z",
     "iopub.status.busy": "2021-12-08T12:32:44.935324Z",
     "iopub.status.idle": "2021-12-08T12:32:45.013096Z",
     "shell.execute_reply": "2021-12-08T12:32:45.012062Z",
     "shell.execute_reply.started": "2021-12-08T12:32:44.935598Z"
    }
   },
   "outputs": [
    {
     "name": "stdout",
     "output_type": "stream",
     "text": [
      "[[9 2]\n",
      " [0 4]]\n",
      "KNN accuracy: 0.8666666666666667\n",
      "KNN precision: 0.8181818181818182\n",
      "KNN recall: 1.0\n",
      "KNN f1 score: 0.9\n"
     ]
    }
   ],
   "source": [
    "model4=KNeighborsClassifier()\n",
    "model4.fit(x,y)\n",
    "y4_pred=model.predict(x_test)\n",
    "met = confusion_matrix(y_test, y4_pred)\n",
    "print(met)\n",
    "\n",
    "tp=met[0][0]\n",
    "fp=met[0][1]\n",
    "fn=met[1][0]\n",
    "tn=met[1][1]\n",
    "pr=tp/(tp+fp)\n",
    "rec=tp/(tp+fn)\n",
    "f1=2*pr*rec/(pr+rec)\n",
    "acc=(tp+tn)/(tp+fp+tn+fn)\n",
    "print(\"KNN accuracy:\",acc)\n",
    "print(\"KNN precision:\",pr)\n",
    "print(\"KNN recall:\",rec)\n",
    "print(\"KNN f1 score:\",f1)"
   ]
  },
  {
   "cell_type": "code",
   "execution_count": 130,
   "metadata": {
    "execution": {
     "iopub.execute_input": "2021-12-08T12:32:49.131414Z",
     "iopub.status.busy": "2021-12-08T12:32:49.131128Z",
     "iopub.status.idle": "2021-12-08T12:32:49.189059Z",
     "shell.execute_reply": "2021-12-08T12:32:49.188324Z",
     "shell.execute_reply.started": "2021-12-08T12:32:49.131385Z"
    }
   },
   "outputs": [
    {
     "name": "stdout",
     "output_type": "stream",
     "text": [
      "[[10  1]\n",
      " [ 0  4]]\n",
      "SVC accuracy: 0.9333333333333333\n",
      "SVC precision: 0.9090909090909091\n",
      "SVC recall: 1.0\n",
      "SVC f1 score: 0.9523809523809523\n"
     ]
    }
   ],
   "source": [
    "model5=SVC()\n",
    "model5.fit(x,y)\n",
    "y5_pred=model5.predict(x_test)\n",
    "met = confusion_matrix(y_test, y5_pred)\n",
    "print(met)\n",
    "\n",
    "tp=met[0][0]\n",
    "fp=met[0][1]\n",
    "fn=met[1][0]\n",
    "tn=met[1][1]\n",
    "pr=tp/(tp+fp)\n",
    "rec=tp/(tp+fn)\n",
    "f1=2*pr*rec/(pr+rec)\n",
    "acc=(tp+tn)/(tp+fp+tn+fn)\n",
    "print(\"SVC accuracy:\",acc)\n",
    "print(\"SVC precision:\",pr)\n",
    "print(\"SVC recall:\",rec)\n",
    "print(\"SVC f1 score:\",f1)"
   ]
  },
  {
   "cell_type": "code",
   "execution_count": 133,
   "metadata": {
    "execution": {
     "iopub.execute_input": "2021-12-08T12:29:57.474695Z",
     "iopub.status.busy": "2021-12-08T12:29:57.474414Z",
     "iopub.status.idle": "2021-12-08T12:30:03.337766Z",
     "shell.execute_reply": "2021-12-08T12:30:03.336719Z",
     "shell.execute_reply.started": "2021-12-08T12:29:57.474666Z"
    }
   },
   "outputs": [
    {
     "name": "stdout",
     "output_type": "stream",
     "text": [
      "[[9 2]\n",
      " [0 4]]\n",
      "catboost accuracy: 0.8666666666666667\n",
      "catboost precision: 0.8181818181818182\n",
      "catboost recall: 1.0\n",
      "catboost f1 score: 0.9\n"
     ]
    }
   ],
   "source": [
    "model6=CatBoostClassifier(silent=True)\n",
    "model6.fit(x,y)\n",
    "y6_pred=model6.predict(x_test)\n",
    "met = confusion_matrix(y_test, y6_pred)\n",
    "print(met)\n",
    "\n",
    "tp=met[0][0]\n",
    "fp=met[0][1]\n",
    "fn=met[1][0]\n",
    "tn=met[1][1]\n",
    "pr=tp/(tp+fp)\n",
    "rec=tp/(tp+fn)\n",
    "f1=2*pr*rec/(pr+rec)\n",
    "acc=(tp+tn)/(tp+fp+tn+fn)\n",
    "print(\"catboost accuracy:\",acc)\n",
    "print(\"catboost precision:\",pr)\n",
    "print(\"catboost recall:\",rec)\n",
    "print(\"catboost f1 score:\",f1)"
   ]
  },
  {
   "cell_type": "code",
   "execution_count": 135,
   "metadata": {
    "execution": {
     "iopub.execute_input": "2021-12-08T12:32:17.394365Z",
     "iopub.status.busy": "2021-12-08T12:32:17.393723Z",
     "iopub.status.idle": "2021-12-08T12:32:18.989797Z",
     "shell.execute_reply": "2021-12-08T12:32:18.988742Z",
     "shell.execute_reply.started": "2021-12-08T12:32:17.394327Z"
    }
   },
   "outputs": [
    {
     "name": "stdout",
     "output_type": "stream",
     "text": [
      "[[9 2]\n",
      " [0 4]]\n",
      "MLPClassifier accuracy: 0.8666666666666667\n",
      "MLPClassifier precision: 0.8181818181818182\n",
      "MLPClassifier recall: 1.0\n",
      "MLPClassifier f1 score: 0.9\n"
     ]
    },
    {
     "name": "stderr",
     "output_type": "stream",
     "text": [
      "C:\\Users\\ASUS\\AppData\\Roaming\\Python\\Python39\\site-packages\\sklearn\\neural_network\\_multilayer_perceptron.py:692: ConvergenceWarning: Stochastic Optimizer: Maximum iterations (200) reached and the optimization hasn't converged yet.\n",
      "  warnings.warn(\n"
     ]
    }
   ],
   "source": [
    "from sklearn.neural_network import MLPClassifier\n",
    "\n",
    "model7=MLPClassifier()\n",
    "model7.fit(x,y)\n",
    "y7_pred=model7.predict(x_test)\n",
    "met = confusion_matrix(y_test, y7_pred)\n",
    "print(met)\n",
    "\n",
    "tp=met[0][0]\n",
    "fp=met[0][1]\n",
    "fn=met[1][0]\n",
    "tn=met[1][1]\n",
    "pr=tp/(tp+fp)\n",
    "rec=tp/(tp+fn)\n",
    "f1=2*pr*rec/(pr+rec)\n",
    "acc=(tp+tn)/(tp+fp+tn+fn)\n",
    "print(\"MLPClassifier accuracy:\",acc)\n",
    "print(\"MLPClassifier precision:\",pr)\n",
    "print(\"MLPClassifier recall:\",rec)\n",
    "print(\"MLPClassifier f1 score:\",f1)"
   ]
  },
  {
   "cell_type": "code",
   "execution_count": 138,
   "metadata": {
    "execution": {
     "iopub.execute_input": "2021-12-08T12:42:46.917885Z",
     "iopub.status.busy": "2021-12-08T12:42:46.917586Z",
     "iopub.status.idle": "2021-12-08T12:42:48.491821Z",
     "shell.execute_reply": "2021-12-08T12:42:48.490879Z",
     "shell.execute_reply.started": "2021-12-08T12:42:46.917855Z"
    }
   },
   "outputs": [
    {
     "name": "stdout",
     "output_type": "stream",
     "text": [
      "[[8 3]\n",
      " [0 4]]\n",
      "GradientBoostingClassifier accuracy: 0.8\n",
      "GradientBoostingClassifier precision: 0.7272727272727273\n",
      "GradientBoostingClassifier recall: 1.0\n",
      "GradientBoostingClassifier f1 score: 0.8421052631578948\n"
     ]
    }
   ],
   "source": [
    "from sklearn.ensemble import GradientBoostingClassifier\n",
    "\n",
    "model8=GradientBoostingClassifier()\n",
    "model8.fit(x,y)\n",
    "y8_pred=model8.predict(x_test)\n",
    "met = confusion_matrix(y_test, y8_pred)\n",
    "print(met)\n",
    "\n",
    "tp=met[0][0]\n",
    "fp=met[0][1]\n",
    "fn=met[1][0]\n",
    "tn=met[1][1]\n",
    "pr=tp/(tp+fp)\n",
    "rec=tp/(tp+fn)\n",
    "f1=2*pr*rec/(pr+rec)\n",
    "acc=(tp+tn)/(tp+fp+tn+fn)\n",
    "print(\"GradientBoostingClassifier accuracy:\",acc)\n",
    "print(\"GradientBoostingClassifier precision:\",pr)\n",
    "print(\"GradientBoostingClassifier recall:\",rec)\n",
    "print(\"GradientBoostingClassifier f1 score:\",f1)"
   ]
  },
  {
   "cell_type": "code",
   "execution_count": 140,
   "metadata": {
    "execution": {
     "iopub.execute_input": "2021-12-08T12:50:27.517805Z",
     "iopub.status.busy": "2021-12-08T12:50:27.517462Z",
     "iopub.status.idle": "2021-12-08T12:50:28.570556Z",
     "shell.execute_reply": "2021-12-08T12:50:28.569633Z",
     "shell.execute_reply.started": "2021-12-08T12:50:27.517774Z"
    }
   },
   "outputs": [
    {
     "name": "stdout",
     "output_type": "stream",
     "text": [
      "[[8 3]\n",
      " [0 4]]\n",
      "AdaBoostClassifier accuracy: 0.8\n",
      "AdaBoostClassifier precision: 0.7272727272727273\n",
      "AdaBoostClassifier recall: 1.0\n",
      "AdaBoostClassifier f1 score: 0.8421052631578948\n"
     ]
    }
   ],
   "source": [
    "from sklearn.ensemble import AdaBoostClassifier\n",
    "\n",
    "model9=AdaBoostClassifier()\n",
    "model9.fit(x,y)\n",
    "y9_pred=model9.predict(x_test)\n",
    "met = confusion_matrix(y_test, y9_pred)\n",
    "print(met)\n",
    "\n",
    "tp=met[0][0]\n",
    "fp=met[0][1]\n",
    "fn=met[1][0]\n",
    "tn=met[1][1]\n",
    "pr=tp/(tp+fp)\n",
    "rec=tp/(tp+fn)\n",
    "f1=2*pr*rec/(pr+rec)\n",
    "acc=(tp+tn)/(tp+fp+tn+fn)\n",
    "print(\"AdaBoostClassifier accuracy:\",acc)\n",
    "print(\"AdaBoostClassifier precision:\",pr)\n",
    "print(\"AdaBoostClassifier recall:\",rec)\n",
    "print(\"AdaBoostClassifier f1 score:\",f1)"
   ]
  },
  {
   "cell_type": "code",
   "execution_count": 141,
   "metadata": {
    "execution": {
     "iopub.execute_input": "2021-12-08T12:56:58.511531Z",
     "iopub.status.busy": "2021-12-08T12:56:58.510755Z",
     "iopub.status.idle": "2021-12-08T12:56:58.973547Z",
     "shell.execute_reply": "2021-12-08T12:56:58.972783Z",
     "shell.execute_reply.started": "2021-12-08T12:56:58.511494Z"
    }
   },
   "outputs": [
    {
     "name": "stdout",
     "output_type": "stream",
     "text": [
      "[22:44:54] WARNING: C:/Users/Administrator/workspace/xgboost-win64_release_1.5.1/src/learner.cc:1115: Starting in XGBoost 1.3.0, the default evaluation metric used with the objective 'binary:logistic' was changed from 'error' to 'logloss'. Explicitly set eval_metric if you'd like to restore the old behavior.\n",
      "[[8 3]\n",
      " [0 4]]\n",
      "XGBClassifier accuracy: 0.8\n",
      "XGBClassifier precision: 0.7272727272727273\n",
      "XGBClassifier recall: 1.0\n",
      "XGBClassifier f1 score: 0.8421052631578948\n"
     ]
    },
    {
     "name": "stderr",
     "output_type": "stream",
     "text": [
      "C:\\Users\\ASUS\\AppData\\Roaming\\Python\\Python39\\site-packages\\xgboost\\sklearn.py:1224: UserWarning: The use of label encoder in XGBClassifier is deprecated and will be removed in a future release. To remove this warning, do the following: 1) Pass option use_label_encoder=False when constructing XGBClassifier object; and 2) Encode your labels (y) as integers starting with 0, i.e. 0, 1, 2, ..., [num_class - 1].\n",
      "  warnings.warn(label_encoder_deprecation_msg, UserWarning)\n"
     ]
    }
   ],
   "source": [
    "from xgboost import XGBClassifier\n",
    "\n",
    "model10=XGBClassifier()\n",
    "model10.fit(x,y)\n",
    "y10_pred=model10.predict(x_test)\n",
    "met = confusion_matrix(y_test, y10_pred)\n",
    "print(met)\n",
    "\n",
    "tp=met[0][0]\n",
    "fp=met[0][1]\n",
    "fn=met[1][0]\n",
    "tn=met[1][1]\n",
    "pr=tp/(tp+fp)\n",
    "rec=tp/(tp+fn)\n",
    "f1=2*pr*rec/(pr+rec)\n",
    "acc=(tp+tn)/(tp+fp+tn+fn)\n",
    "print(\"XGBClassifier accuracy:\",acc)\n",
    "print(\"XGBClassifier precision:\",pr)\n",
    "print(\"XGBClassifier recall:\",rec)\n",
    "print(\"XGBClassifier f1 score:\",f1)"
   ]
  },
  {
   "cell_type": "code",
   "execution_count": 142,
   "metadata": {
    "execution": {
     "iopub.execute_input": "2021-12-08T13:27:08.369457Z",
     "iopub.status.busy": "2021-12-08T13:27:08.368769Z",
     "iopub.status.idle": "2021-12-08T13:27:08.734973Z",
     "shell.execute_reply": "2021-12-08T13:27:08.734109Z",
     "shell.execute_reply.started": "2021-12-08T13:27:08.369426Z"
    }
   },
   "outputs": [
    {
     "name": "stdout",
     "output_type": "stream",
     "text": [
      "[22:45:15] WARNING: C:/Users/Administrator/workspace/xgboost-win64_release_1.5.1/src/learner.cc:1115: Starting in XGBoost 1.3.0, the default evaluation metric used with the objective 'binary:logistic' was changed from 'error' to 'logloss'. Explicitly set eval_metric if you'd like to restore the old behavior.\n",
      "[[10  1]\n",
      " [ 0  4]]\n",
      "XGBRFClassifier accuracy: 0.9333333333333333\n",
      "XGBRFClassifier precision: 0.9090909090909091\n",
      "XGBRFClassifier recall: 1.0\n",
      "XGBRFClassifier f1 score: 0.9523809523809523\n"
     ]
    },
    {
     "name": "stderr",
     "output_type": "stream",
     "text": [
      "C:\\Users\\ASUS\\AppData\\Roaming\\Python\\Python39\\site-packages\\xgboost\\sklearn.py:1224: UserWarning: The use of label encoder in XGBClassifier is deprecated and will be removed in a future release. To remove this warning, do the following: 1) Pass option use_label_encoder=False when constructing XGBClassifier object; and 2) Encode your labels (y) as integers starting with 0, i.e. 0, 1, 2, ..., [num_class - 1].\n",
      "  warnings.warn(label_encoder_deprecation_msg, UserWarning)\n"
     ]
    }
   ],
   "source": [
    "from xgboost import XGBRFClassifier\n",
    "\n",
    "model11=XGBRFClassifier()\n",
    "model11.fit(x,y)\n",
    "y11_pred=model11.predict(x_test)\n",
    "met = confusion_matrix(y_test, y11_pred)\n",
    "print(met)\n",
    "\n",
    "tp=met[0][0]\n",
    "fp=met[0][1]\n",
    "fn=met[1][0]\n",
    "tn=met[1][1]\n",
    "pr=tp/(tp+fp)\n",
    "rec=tp/(tp+fn)\n",
    "f1=2*pr*rec/(pr+rec)\n",
    "acc=(tp+tn)/(tp+fp+tn+fn)\n",
    "print(\"XGBRFClassifier accuracy:\",acc)\n",
    "print(\"XGBRFClassifier precision:\",pr)\n",
    "print(\"XGBRFClassifier recall:\",rec)\n",
    "print(\"XGBRFClassifier f1 score:\",f1)"
   ]
  },
  {
   "cell_type": "code",
   "execution_count": 144,
   "metadata": {
    "execution": {
     "iopub.execute_input": "2021-12-08T14:26:31.698983Z",
     "iopub.status.busy": "2021-12-08T14:26:31.698695Z",
     "iopub.status.idle": "2021-12-08T14:26:32.265022Z",
     "shell.execute_reply": "2021-12-08T14:26:32.262439Z",
     "shell.execute_reply.started": "2021-12-08T14:26:31.698955Z"
    }
   },
   "outputs": [
    {
     "name": "stdout",
     "output_type": "stream",
     "text": [
      "[0.         0.18181818 1.        ] [0. 1. 1.]\n",
      "[0.         0.18181818 1.        ] [0. 1. 1.]\n",
      "[0.         0.09090909 1.        ] [0. 1. 1.]\n",
      "[0.         0.18181818 1.        ] [0. 1. 1.]\n",
      "[0.         0.09090909 1.        ] [0. 1. 1.]\n",
      "[0.         0.18181818 1.        ] [0. 1. 1.]\n",
      "[0.         0.18181818 1.        ] [0. 1. 1.]\n",
      "[0.         0.27272727 1.        ] [0. 1. 1.]\n",
      "[0.         0.27272727 1.        ] [0. 1. 1.]\n",
      "[0.         0.27272727 1.        ] [0. 1. 1.]\n",
      "[0.         0.09090909 1.        ] [0. 1. 1.]\n"
     ]
    },
    {
     "data": {
      "image/png": "[encoded data removed]",
      "text/plain": [
       "<Figure size 432x288 with 1 Axes>"
      ]
     },
     "metadata": {
      "needs_background": "light"
     },
     "output_type": "display_data"
    }
   ],
   "source": [
    "import matplotlib.pyplot as plt\n",
    "from sklearn.metrics import roc_curve,auc\n",
    "\n",
    "y=y_test\n",
    "\n",
    "DTC_fpr,DTC_tpr,threshold=roc_curve(y,y_pred)\n",
    "GNB_fpr,GNB_tpr,threshold=roc_curve(y,y2_pred)\n",
    "RFC_fpr,RFC_tpr,threshold=roc_curve(y,y1_pred)\n",
    "KNN_fpr,KNN_tpr,threshold=roc_curve(y,y4_pred)\n",
    "SVC_fpr,SVC_tpr,threshold=roc_curve(y,y5_pred)\n",
    "cbc_fpr,cbc_tpr,threshold=roc_curve(y,y6_pred)\n",
    "mlp_fpr,mlp_tpr,threshold=roc_curve(y,y7_pred)\n",
    "gb_fpr,gb_tpr,threshold=roc_curve(y,y8_pred)\n",
    "ada_fpr,ada_tpr,threshold=roc_curve(y,y9_pred)\n",
    "xgb_fpr,xgb_tpr,threshold=roc_curve(y,y10_pred)\n",
    "xgbrfc_fpr,xgbrfc_tpr,threshold=roc_curve(y,y11_pred)\n",
    "\n",
    "auc0=auc(DTC_fpr,DTC_tpr)\n",
    "auc2=auc(GNB_fpr,GNB_tpr)\n",
    "auc3=auc(RFC_fpr,RFC_tpr)\n",
    "auc4=auc(KNN_fpr,KNN_tpr)\n",
    "auc5=auc(SVC_fpr,SVC_tpr)\n",
    "auc6=auc(cbc_fpr,cbc_tpr)\n",
    "auc7=auc(gb_fpr,gb_tpr)\n",
    "auc8=auc(mlp_fpr,mlp_tpr)\n",
    "auc9=auc(ada_fpr,ada_tpr)\n",
    "auc10=auc(xgb_fpr,xgb_tpr)\n",
    "auc11=auc(xgbrfc_fpr,xgbrfc_tpr)\n",
    "\n",
    "plt.plot(DTC_fpr,DTC_tpr,label='DTC(auc=%0.3f)'%auc0)\n",
    "plt.plot(GNB_fpr,GNB_tpr,label='GNB(auc=%0.3f)'%auc2)\n",
    "plt.plot(RFC_fpr,RFC_tpr,label='RFC(auc=%0.3f)'%auc3)\n",
    "plt.plot(KNN_fpr,KNN_tpr,label='KNN(auc=%0.3f)'%auc4)\n",
    "plt.plot(SVC_fpr,SVC_tpr,label='SVC(auc=%0.3f)'%auc5)\n",
    "plt.plot(cbc_fpr,cbc_tpr,label='SVC(auc=%0.3f)'%auc6)\n",
    "plt.plot(mlp_fpr,mlp_tpr,label='SVC(auc=%0.3f)'%auc7)\n",
    "plt.plot(gb_fpr,gb_tpr,label='SVC(auc=%0.3f)'%auc8)\n",
    "plt.plot(ada_fpr,ada_tpr,label='SVC(auc=%0.3f)'%auc9)\n",
    "plt.plot(xgb_fpr,xgb_tpr,label='SVC(auc=%0.3f)'%auc10)\n",
    "plt.plot(xgbrfc_fpr,xgbrfc_tpr,label='SVC(auc=%0.3f)'%auc11)\n",
    "\n",
    "xl=np.linspace(0,1,num=10000)\n",
    "yl=xl\n",
    "plt.plot(xl,yl,linestyle='-.',lw=2,color='black')\n",
    "\n",
    "plt.grid(True)\n",
    "plt.title('ROC(Reciever Operating Characteristic Curve)',name='Courier')\n",
    "plt.xlabel('False Positive Rate',name='Courier')\n",
    "plt.ylabel('True Positive Rate',name='Sans')\n",
    "plt.legend()\n",
    "plt.show\n",
    "\n",
    "print(DTC_fpr,DTC_tpr)\n",
    "print(GNB_fpr,GNB_tpr)\n",
    "print(RFC_fpr,RFC_tpr)\n",
    "print(KNN_fpr,KNN_tpr)\n",
    "print(SVC_fpr,SVC_tpr)\n",
    "print(cbc_fpr,cbc_tpr)\n",
    "print(mlp_fpr,mlp_tpr)\n",
    "print(gb_fpr,gb_tpr)\n",
    "print(ada_fpr,ada_tpr)\n",
    "print(xgb_fpr,xgb_tpr)\n",
    "print(xgbrfc_fpr,xgbrfc_tpr)\n"
   ]
  },
  {
   "cell_type": "code",
   "execution_count": null,
   "metadata": {},
   "outputs": [],
   "source": []
  }
 ],
 "metadata": {
  "kernelspec": {
   "display_name": "Python 3 (ipykernel)",
   "language": "python",
   "name": "python3"
  },
  "language_info": {
   "codemirror_mode": {
    "name": "ipython",
    "version": 3
   },
   "file_extension": ".py",
   "mimetype": "text/x-python",
   "name": "python",
   "nbconvert_exporter": "python",
   "pygments_lexer": "ipython3",
   "version": "3.9.7"
  }
 },
 "nbformat": 4,
 "nbformat_minor": 4
}
